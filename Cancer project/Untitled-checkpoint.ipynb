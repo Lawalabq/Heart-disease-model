{
 "cells": [
  {
   "cell_type": "code",
   "execution_count": 13,
   "id": "01cb96ee",
   "metadata": {},
   "outputs": [],
   "source": [
    "import pandas as pd\n",
    "from sklearn.preprocessing import MinMaxScaler\n",
    "from sklearn.model_selection import train_test_split\n",
    "from sklearn.feature_selection import VarianceThreshold\n",
    "from sklearn.decomposition import PCA\n",
    "from sklearn.neighbors import KNeighborsClassifier\n",
    "from sklearn.linear_model import LogisticRegression\n",
    "from scipy.stats import uniform\n",
    "from sklearn.model_selection import RandomizedSearchCV\n",
    "from sklearn import svm\n",
    "from sklearn.model_selection import GridSearchCV\n",
    "from sklearn.pipeline import Pipeline\n",
    "from sklearn.impute import SimpleImputer\n",
    "from sklearn.preprocessing import OneHotEncoder\n",
    "from sklearn.compose import ColumnTransformer\n",
    "from sklearn.tree import DecisionTreeClassifier\n",
    "from sklearn.feature_selection import SequentialFeatureSelector as SFS"
   ]
  },
  {
   "cell_type": "code",
   "execution_count": 3,
   "id": "25f1719b",
   "metadata": {},
   "outputs": [],
   "source": [
    "df = pd.read_csv('heart_disease_health_indicators_BRFSS2015.csv')"
   ]
  },
  {
   "cell_type": "code",
   "execution_count": 4,
   "id": "0bacd395",
   "metadata": {},
   "outputs": [
    {
     "name": "stdout",
     "output_type": "stream",
     "text": [
      "   HeartDiseaseorAttack  HighBP  HighChol  CholCheck   BMI  Smoker  Stroke  \\\n",
      "0                   0.0     1.0       1.0        1.0  40.0     1.0     0.0   \n",
      "1                   0.0     0.0       0.0        0.0  25.0     1.0     0.0   \n",
      "2                   0.0     1.0       1.0        1.0  28.0     0.0     0.0   \n",
      "3                   0.0     1.0       0.0        1.0  27.0     0.0     0.0   \n",
      "4                   0.0     1.0       1.0        1.0  24.0     0.0     0.0   \n",
      "5                   0.0     1.0       1.0        1.0  25.0     1.0     0.0   \n",
      "6                   0.0     1.0       0.0        1.0  30.0     1.0     0.0   \n",
      "7                   0.0     1.0       1.0        1.0  25.0     1.0     0.0   \n",
      "8                   1.0     1.0       1.0        1.0  30.0     1.0     0.0   \n",
      "9                   0.0     0.0       0.0        1.0  24.0     0.0     0.0   \n",
      "\n",
      "   Diabetes  PhysActivity  Fruits  ...  AnyHealthcare  NoDocbcCost  GenHlth  \\\n",
      "0       0.0           0.0     0.0  ...            1.0          0.0      5.0   \n",
      "1       0.0           1.0     0.0  ...            0.0          1.0      3.0   \n",
      "2       0.0           0.0     1.0  ...            1.0          1.0      5.0   \n",
      "3       0.0           1.0     1.0  ...            1.0          0.0      2.0   \n",
      "4       0.0           1.0     1.0  ...            1.0          0.0      2.0   \n",
      "5       0.0           1.0     1.0  ...            1.0          0.0      2.0   \n",
      "6       0.0           0.0     0.0  ...            1.0          0.0      3.0   \n",
      "7       0.0           1.0     0.0  ...            1.0          0.0      3.0   \n",
      "8       2.0           0.0     1.0  ...            1.0          0.0      5.0   \n",
      "9       0.0           0.0     0.0  ...            1.0          0.0      2.0   \n",
      "\n",
      "   MentHlth  PhysHlth  DiffWalk  Sex   Age  Education  Income  \n",
      "0      18.0      15.0       1.0  0.0   9.0        4.0     3.0  \n",
      "1       0.0       0.0       0.0  0.0   7.0        6.0     1.0  \n",
      "2      30.0      30.0       1.0  0.0   9.0        4.0     8.0  \n",
      "3       0.0       0.0       0.0  0.0  11.0        3.0     6.0  \n",
      "4       3.0       0.0       0.0  0.0  11.0        5.0     4.0  \n",
      "5       0.0       2.0       0.0  1.0  10.0        6.0     8.0  \n",
      "6       0.0      14.0       0.0  0.0   9.0        6.0     7.0  \n",
      "7       0.0       0.0       1.0  0.0  11.0        4.0     4.0  \n",
      "8      30.0      30.0       1.0  0.0   9.0        5.0     1.0  \n",
      "9       0.0       0.0       0.0  1.0   8.0        4.0     3.0  \n",
      "\n",
      "[10 rows x 22 columns]\n",
      "HeartDiseaseorAttack     0.085315\n",
      "HighBP                   0.244960\n",
      "HighChol                 0.244243\n",
      "CholCheck                0.035937\n",
      "BMI                     43.674839\n",
      "Smoker                   0.246771\n",
      "Stroke                   0.038925\n",
      "Diabetes                 0.487427\n",
      "PhysActivity             0.184186\n",
      "Fruits                   0.231976\n",
      "Veggies                  0.153018\n",
      "HvyAlcoholConsump        0.053039\n",
      "AnyHealthcare            0.046552\n",
      "NoDocbcCost              0.077091\n",
      "GenHlth                  1.141644\n",
      "MentHlth                54.950296\n",
      "PhysHlth                76.002675\n",
      "DiffWalk                 0.139925\n",
      "Sex                      0.246442\n",
      "Age                      9.328262\n",
      "Education                0.971751\n",
      "Income                   4.289652\n",
      "dtype: float64\n"
     ]
    }
   ],
   "source": [
    "print(df.head(10))\n",
    "print(df.var())\n",
    "x=df.drop('HeartDiseaseorAttack',axis=1)\n",
    "y=df.HeartDiseaseorAttack"
   ]
  },
  {
   "cell_type": "code",
   "execution_count": null,
   "id": "4005c6c7",
   "metadata": {},
   "outputs": [],
   "source": [
    "#Lets see how the models perfrom without cleaning , standardiing and reducing the data\n",
    "X_train,X_test,y_train,y_test=train_test_split(x ,y,test_size=0.25)\n",
    "#lr =LogisticRegression(max_iter=1000)\n",
    "#lr.fit(X_train,y_train)\n",
    "#print(lr.score(X_test,y_test))\n",
    "svc =svm.SVC()\n",
    "svc.fit(X_train,y_train)\n",
    "print(svc.score(X_test,y_test))"
   ]
  },
  {
   "cell_type": "code",
   "execution_count": 23,
   "id": "00b8c8f3",
   "metadata": {},
   "outputs": [
    {
     "ename": "TypeError",
     "evalue": "SequentialFeatureSelector.__init__() got an unexpected keyword argument 'model'",
     "output_type": "error",
     "traceback": [
      "\u001b[1;31m---------------------------------------------------------------------------\u001b[0m",
      "\u001b[1;31mTypeError\u001b[0m                                 Traceback (most recent call last)",
      "Cell \u001b[1;32mIn[23], line 3\u001b[0m\n\u001b[0;32m      1\u001b[0m \u001b[38;5;66;03m#Now selecting features like\u001b[39;00m\n\u001b[0;32m      2\u001b[0m lr \u001b[38;5;241m=\u001b[39mLogisticRegression(max_iter\u001b[38;5;241m=\u001b[39m\u001b[38;5;241m1000\u001b[39m)\n\u001b[1;32m----> 3\u001b[0m sfs \u001b[38;5;241m=\u001b[39m SFS(model\u001b[38;5;241m=\u001b[39mlr)\n\u001b[0;32m      4\u001b[0m sfs\u001b[38;5;241m.\u001b[39mfit(X_train)\n",
      "\u001b[1;31mTypeError\u001b[0m: SequentialFeatureSelector.__init__() got an unexpected keyword argument 'model'"
     ]
    }
   ],
   "source": [
    "#Now selecting features like\n",
    "lr =LogisticRegression(max_iter=1000)\n",
    "sfs = SFS(model=lr)\n",
    "sfs.fit(X_train)\n",
    "\n"
   ]
  },
  {
   "cell_type": "code",
   "execution_count": 18,
   "id": "d9a7c9f5",
   "metadata": {},
   "outputs": [
    {
     "ename": "SyntaxError",
     "evalue": "unmatched ')' (3997199002.py, line 1)",
     "output_type": "error",
     "traceback": [
      "\u001b[1;36m  Cell \u001b[1;32mIn[18], line 1\u001b[1;36m\u001b[0m\n\u001b[1;33m    js.PRO)\u001b[0m\n\u001b[1;37m          ^\u001b[0m\n\u001b[1;31mSyntaxError\u001b[0m\u001b[1;31m:\u001b[0m unmatched ')'\n"
     ]
    }
   ],
   "source": [
    "js.PRO)"
   ]
  },
  {
   "cell_type": "code",
   "execution_count": null,
   "id": "4a2733fc",
   "metadata": {},
   "outputs": [],
   "source": []
  }
 ],
 "metadata": {
  "kernelspec": {
   "display_name": "Python 3 (ipykernel)",
   "language": "python",
   "name": "python3"
  },
  "language_info": {
   "codemirror_mode": {
    "name": "ipython",
    "version": 3
   },
   "file_extension": ".py",
   "mimetype": "text/x-python",
   "name": "python",
   "nbconvert_exporter": "python",
   "pygments_lexer": "ipython3",
   "version": "3.11.4"
  }
 },
 "nbformat": 4,
 "nbformat_minor": 5
}
