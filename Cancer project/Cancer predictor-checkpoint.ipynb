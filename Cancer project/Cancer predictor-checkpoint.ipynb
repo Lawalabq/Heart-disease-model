{
 "cells": [
  {
   "cell_type": "code",
   "execution_count": 14,
   "id": "69a07f25",
   "metadata": {},
   "outputs": [],
   "source": [
    "#this is my ml project\n",
    "#I am using the cancer data set for this stint\n"
   ]
  },
  {
   "cell_type": "code",
   "execution_count": 95,
   "id": "86844225",
   "metadata": {},
   "outputs": [],
   "source": [
    "#My imports go here\n",
    "import pandas as pd\n",
    "from sklearn.preprocessing import MinMaxScaler\n",
    "from sklearn.model_selection import train_test_split\n",
    "from sklearn.feature_selection import VarianceThreshold\n",
    "from sklearn.decomposition import PCA\n",
    "from sklearn.neighbors import KNeighborsClassifier\n",
    "from sklearn.linear_model import LogisticRegression\n",
    "from scipy.stats import uniform\n",
    "from sklearn.model_selection import RandomizedSearchCV\n",
    "from sklearn import svm\n",
    "from sklearn.model_selection import GridSearchCV\n",
    "from sklearn.pipeline import Pipeline\n",
    "from sklearn.impute import SimpleImputer\n",
    "from sklearn.preprocessing import OneHotEncoder\n",
    "from sklearn.compose import ColumnTransformer\n",
    "from sklearn.tree import DecisionTreeClassifier\n",
    "from sklearn.feature_selection import SequentialFeatureSelector\n",
    "\n",
    "\n"
   ]
  },
  {
   "cell_type": "code",
   "execution_count": 81,
   "id": "b9a48c6d",
   "metadata": {
    "scrolled": true
   },
   "outputs": [
    {
     "name": "stdout",
     "output_type": "stream",
     "text": [
      "   Age  Gender  Air Pollution  Alcohol use  Dust Allergy  \\\n",
      "0   33       1              2            4             5   \n",
      "1   17       1              3            1             5   \n",
      "2   35       1              4            5             6   \n",
      "\n",
      "   OccuPational Hazards  Genetic Risk  chronic Lung Disease  Balanced Diet  \\\n",
      "0                     4             3                     2              2   \n",
      "1                     3             4                     2              2   \n",
      "2                     5             5                     4              6   \n",
      "\n",
      "   Obesity  ...  Coughing of Blood  Fatigue  Weight Loss  Shortness of Breath  \\\n",
      "0        4  ...                  4        3            4                    2   \n",
      "1        2  ...                  3        1            3                    7   \n",
      "2        7  ...                  8        8            7                    9   \n",
      "\n",
      "   Wheezing  Swallowing Difficulty  Clubbing of Finger Nails  Frequent Cold  \\\n",
      "0         2                      3                         1              2   \n",
      "1         8                      6                         2              1   \n",
      "2         2                      1                         4              6   \n",
      "\n",
      "   Dry Cough  Snoring  \n",
      "0          3        4  \n",
      "1          7        2  \n",
      "2          7        2  \n",
      "\n",
      "[3 rows x 23 columns]\n",
      "0    1\n",
      "1    2\n",
      "2    3\n",
      "Name: Level, dtype: int64\n",
      "Age                         144.131856\n",
      "Gender                        0.240637\n",
      "Air Pollution                 4.122523\n",
      "Alcohol use                   6.866898\n",
      "Dust Allergy                  3.923699\n",
      "OccuPational Hazards          4.442843\n",
      "Genetic Risk                  4.524124\n",
      "chronic Lung Disease          3.417017\n",
      "Balanced Diet                 4.560479\n",
      "Obesity                       4.515290\n",
      "Smoking                       6.229526\n",
      "Passive Smoker                5.344319\n",
      "Chest Pain                    5.199355\n",
      "Coughing of Blood             5.895014\n",
      "Fatigue                       5.038302\n",
      "Weight Loss                   4.868844\n",
      "Shortness of Breath           5.221622\n",
      "Wheezing                      4.169440\n",
      "Swallowing Difficulty         5.154639\n",
      "Clubbing of Finger Nails      5.702774\n",
      "Frequent Cold                 3.358062\n",
      "Dry Cough                     4.157549\n",
      "Snoring                       2.174699\n",
      "dtype: float64\n"
     ]
    }
   ],
   "source": [
    "#Exploring data set\n",
    "\n",
    "df= pd.read_csv(\"cancer_dataet.csv\")\n",
    "#print(df.head(3))\n",
    "X=df.drop(['index','Patient Id','Level'],axis=1)\n",
    "print(X.head(3))\n",
    "map ={\n",
    "    'Low': 1, \n",
    "    'Medium': 2, \n",
    "    'High': 3 \n",
    "    }\n",
    "y=df.Level.map(map)\n",
    "print(y.head(3))\n",
    "print(X.var())\n"
   ]
  },
  {
   "cell_type": "code",
   "execution_count": 82,
   "id": "b4f8588d",
   "metadata": {},
   "outputs": [],
   "source": [
    "#Feature selection and scaling\n",
    "\n",
    "\n",
    "selector = VarianceThreshold(threshold=4.5)  \n",
    "X_transformed =selector.fit_transform(X)\n",
    "scaler= MinMaxScaler()\n",
    "X_train,X_test,y_train,y_test=train_test_split(X_transformed,y,test_size=.25)\n",
    "scaler.fit(X_train)\n",
    "X_train=scaler.transform(X_train)\n",
    "X_test=scaler.transform(X_test)\n",
    "\n",
    "\n",
    "\n",
    "\n",
    "\n",
    "\n"
   ]
  },
  {
   "cell_type": "code",
   "execution_count": 83,
   "id": "9dd0c793",
   "metadata": {
    "scrolled": false
   },
   "outputs": [
    {
     "name": "stdout",
     "output_type": "stream",
     "text": [
      "1.0\n"
     ]
    }
   ],
   "source": [
    "#Using KNN\n",
    "knn = KNeighborsClassifier(n_neighbors=3)\n",
    "knn.fit(X_train,y_train)\n",
    "print(knn.score(X_test,y_test))"
   ]
  },
  {
   "cell_type": "code",
   "execution_count": 84,
   "id": "e543c1a0",
   "metadata": {},
   "outputs": [
    {
     "name": "stdout",
     "output_type": "stream",
     "text": [
      "0.984\n",
      "[[0.3220339  0.         0.14285714 ... 0.16666667 0.33333333 0.5       ]\n",
      " [0.05084746 0.         0.28571429 ... 0.         1.         0.16666667]\n",
      " [0.3559322  0.         0.42857143 ... 0.83333333 1.         0.16666667]\n",
      " ...\n",
      " [0.18644068 1.         0.42857143 ... 0.83333333 1.         0.16666667]\n",
      " [0.06779661 1.         0.71428571 ... 0.5        0.16666667 0.33333333]\n",
      " [0.55932203 0.         0.71428571 ... 0.83333333 1.         0.16666667]]\n",
      "0.92\n"
     ]
    }
   ],
   "source": [
    "#Using Lr\n",
    "lr= LogisticRegression()\n",
    "lr.fit(X_train,y_train)\n",
    "print(lr.score(X_test,y_test))\n",
    "\n",
    "#Seeing wheather pca will increase score\n",
    "scaler = MinMaxScaler()\n",
    "scaler.fit(X)\n",
    "X_transformed = scaler.transform(X)\n",
    "scaler.fit_transform(X_transformed)\n",
    "print(X_transformed)\n",
    "pca = PCA(n_components=4)\n",
    "X_pca = pca.fit_transform(X_transformed)\n",
    "X_train,X_test,y_train,y_test=train_test_split(X_pca,y,test_size=.25)\n",
    "lr_pca= LogisticRegression()\n",
    "lr_pca.fit(X_train,y_train)\n",
    "print(lr_pca.score(X_test,y_test))\n",
    "\n",
    "\n"
   ]
  },
  {
   "cell_type": "code",
   "execution_count": 85,
   "id": "cb564f70",
   "metadata": {},
   "outputs": [
    {
     "name": "stdout",
     "output_type": "stream",
     "text": [
      "LogisticRegression(C=31.509898931011683, penalty='l1', solver='liblinear')\n",
      "0.932\n"
     ]
    }
   ],
   "source": [
    "#using RandosearcH cv\n",
    "param_dist= {\n",
    "    'penalty':['l1','l2'],\n",
    "    'C':uniform(loc=0,scale=100)\n",
    "}\n",
    "lr_rand=LogisticRegression(solver='liblinear',max_iter=100)\n",
    "clf=RandomizedSearchCV(lr_rand,param_dist,cv=5)\n",
    "clf.fit(X_train,y_train)\n",
    "print(clf.best_estimator_)\n",
    "print(clf.best_score_)\n"
   ]
  },
  {
   "cell_type": "code",
   "execution_count": 86,
   "id": "eddb87c0",
   "metadata": {},
   "outputs": [
    {
     "name": "stdout",
     "output_type": "stream",
     "text": [
      "0.968\n"
     ]
    }
   ],
   "source": [
    "#using svc\n",
    "svc = svm.SVC(kernel='rbf', C=1.0, gamma='scale')\n",
    "svc.fit(X_train,y_train)\n",
    "print(svc.score(X_test,y_test))\n",
    "\n"
   ]
  },
  {
   "cell_type": "code",
   "execution_count": 87,
   "id": "c9009ae5",
   "metadata": {},
   "outputs": [
    {
     "name": "stdout",
     "output_type": "stream",
     "text": [
      "SVC(C=0.1, gamma=1, kernel='linear')\n",
      "1.0\n"
     ]
    }
   ],
   "source": [
    "#Using gridsearchcv\n",
    "param_grid = {'C': [0.1, 1, 10, 100, 1000], \n",
    "              'gamma': [1, 0.1, 0.01, 0.001, 0.0001], \n",
    "              'kernel': ['rbf','linear','sigmoid']}\n",
    "\n",
    "svc = svm.SVC()\n",
    "\n",
    "\n",
    "grid = GridSearchCV(svc, param_grid, cv=10, scoring='accuracy')\n",
    "\n",
    "\n",
    "grid.fit(X, y)\n",
    "print(grid.best_estimator_)\n",
    "print(grid.best_score_)"
   ]
  },
  {
   "cell_type": "code",
   "execution_count": 88,
   "id": "d472c972",
   "metadata": {},
   "outputs": [
    {
     "name": "stdout",
     "output_type": "stream",
     "text": [
      "0.9973333333333333\n",
      "Pipeline(steps=[('scl', MinMaxScaler()),\n",
      "                ('clf',\n",
      "                 DecisionTreeClassifier(max_depth=7, min_samples_split=3))])\n"
     ]
    }
   ],
   "source": [
    "#implementation using pipe line\n",
    "num_cols= ['Age', 'Gender', 'Air Pollution', 'Alcohol use', 'Dust Allergy',\n",
    "       'OccuPational Hazards', 'Genetic Risk', 'chronic Lung Disease',\n",
    "       'Balanced Diet', 'Obesity', 'Smoking', 'Passive Smoker', 'Chest Pain',\n",
    "       'Coughing of Blood', 'Fatigue', 'Weight Loss', 'Shortness of Breath',\n",
    "       'Wheezing', 'Swallowing Difficulty', 'Clubbing of Finger Nails',\n",
    "       'Frequent Cold', 'Dry Cough', 'Snoring']\n",
    "\n",
    "pipe_lr = Pipeline([('scl', MinMaxScaler()), ('clf', LogisticRegression())])\n",
    "pipe_dt = Pipeline([('scl', MinMaxScaler()), ('clf', DecisionTreeClassifier())])\n",
    "pipe_svc = Pipeline([('scl', MinMaxScaler()), ('clf', svc)])\n",
    "grid_params_lr = [{'clf__penalty': ['l1', 'l2'], 'clf__C': param_range, 'clf__solver': ['liblinear']}] \n",
    "grid_params_rf = [{'clf__criterion': ['gini', 'entropy'], 'clf__min_samples_leaf': param_range, 'clf__max_depth': param_range, 'clf__min_samples_split': param_range[1:]}]\n",
    "grid_params_svc =[{'clf__C':[1,2,5,10,50,100,500],'clf__kernel': ['rbf','poly','sigmoid','linear'],'clf__gamma': [1, 0.1, 0.01, 0.001, 0.0001]}]\n",
    "pipes=[pipe_lr,pipe_dt,pipe_svc]\n",
    "grids=[grid_params_lr,grid_params_rf,grid_params_svc]\n",
    "grid= GridSearchCV(pipes[1],grids[1],scoring='accuracy',)\n",
    "grid.fit(X_train,y_train)\n",
    "print(grid.best_score_)\n",
    "print(grid.best_estimator_)\n",
    "\n",
    "    \n",
    "\n",
    "\n",
    "\n",
    "\n"
   ]
  },
  {
   "cell_type": "code",
   "execution_count": 93,
   "id": "51b43d41",
   "metadata": {},
   "outputs": [
    {
     "name": "stdout",
     "output_type": "stream",
     "text": [
      "0.9213333333333334\n",
      "Pipeline(steps=[('scl', MinMaxScaler()),\n",
      "                ('clf',\n",
      "                 LogisticRegression(C=8, penalty='l1', solver='liblinear'))])\n"
     ]
    }
   ],
   "source": [
    "grid= GridSearchCV(pipes[0],grids[0],scoring='accuracy',cv=5)\n",
    "grid.fit(X_train,y_train)\n",
    "print(grid.best_score_)\n",
    "print(grid.best_estimator_)"
   ]
  },
  {
   "cell_type": "code",
   "execution_count": 94,
   "id": "23a74c03",
   "metadata": {},
   "outputs": [
    {
     "name": "stdout",
     "output_type": "stream",
     "text": [
      "1.0\n",
      "Pipeline(steps=[('scl', MinMaxScaler()), ('clf', SVC(C=1, gamma=1))])\n"
     ]
    }
   ],
   "source": [
    "grid= GridSearchCV(pipes[2],grids[2],scoring='accuracy',cv=5)\n",
    "grid.fit(X,y)\n",
    "print(grid.best_score_)\n",
    "print(grid.best_estimator_)"
   ]
  },
  {
   "cell_type": "code",
   "execution_count": 120,
   "id": "5a2755a9",
   "metadata": {},
   "outputs": [
    {
     "name": "stdout",
     "output_type": "stream",
     "text": [
      "[[4 5 4 ... 2 3 4]\n",
      " [1 5 3 ... 1 7 2]\n",
      " [5 6 5 ... 6 7 2]\n",
      " ...\n",
      " [5 6 5 ... 6 7 2]\n",
      " [8 7 7 ... 4 2 3]\n",
      " [5 6 5 ... 6 7 2]]\n"
     ]
    }
   ],
   "source": [
    "\n",
    "\n"
   ]
  },
  {
   "cell_type": "code",
   "execution_count": 122,
   "id": "838ba7ae",
   "metadata": {},
   "outputs": [
    {
     "name": "stdout",
     "output_type": "stream",
     "text": [
      "[[4 5 4 ... 2 3 4]\n",
      " [1 5 3 ... 1 7 2]\n",
      " [5 6 5 ... 6 7 2]\n",
      " ...\n",
      " [5 6 5 ... 6 7 2]\n",
      " [8 7 7 ... 4 2 3]\n",
      " [5 6 5 ... 6 7 2]]\n"
     ]
    }
   ],
   "source": [
    "#what did i learn \n",
    "1.Svc is a powerful classifer\n",
    "2.there is reason why ai tools are run on servers\n",
    "3.I learnt the importance of feature selcetion\n",
    "4."
   ]
  },
  {
   "cell_type": "code",
   "execution_count": null,
   "id": "e0993950",
   "metadata": {},
   "outputs": [],
   "source": []
  }
 ],
 "metadata": {
  "kernelspec": {
   "display_name": "Python 3 (ipykernel)",
   "language": "python",
   "name": "python3"
  },
  "language_info": {
   "codemirror_mode": {
    "name": "ipython",
    "version": 3
   },
   "file_extension": ".py",
   "mimetype": "text/x-python",
   "name": "python",
   "nbconvert_exporter": "python",
   "pygments_lexer": "ipython3",
   "version": "3.11.4"
  }
 },
 "nbformat": 4,
 "nbformat_minor": 5
}
